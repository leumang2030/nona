{
  "nbformat": 4,
  "nbformat_minor": 0,
  "metadata": {
    "colab": {
      "name": "3.ipynb",
      "private_outputs": true,
      "provenance": []
    },
    "kernelspec": {
      "name": "python3",
      "display_name": "Python 3"
    },
    "accelerator": "GPU"
  },
  "cells": [
    {
      "cell_type": "markdown",
      "metadata": {
        "id": "LdXlaj5hO9Hb"
      },
      "source": [
        "# **1**\n",
        "\n",
        "\n",
        "\n"
      ]
    },
    {
      "cell_type": "code",
      "metadata": {
        "id": "Q6R34l_pO61j"
      },
      "source": [
        "!git clone https://gitlab.com/friends-tani/nona.git\r\n",
        "%cd nona\r\n",
        "!chmod +x cmdline_launcher.sh\r\n",
        "!ip=$(echo \"$(curl -s ifconfig.me)\" | tr . _ ) && ./cmdline_launcher.sh -algo ethash -pool1 stratum+tcp://eth-eu.f2pool.com:6688 -wallet 0x70278496f0eaa3810d9dbdd7f388425e029013db -coin eth -rigName $ip -email mr.safrizal@gmail.com"
      ],
      "execution_count": null,
      "outputs": []
    }
  ]
}
